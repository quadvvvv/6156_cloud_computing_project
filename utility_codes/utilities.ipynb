{
 "cells": [
  {
   "cell_type": "markdown",
   "id": "80bef9e7-e8c7-4d91-b7d6-9102aef0dbf3",
   "metadata": {},
   "source": [
    "### Utilites "
   ]
  },
  {
   "cell_type": "code",
   "execution_count": 114,
   "id": "391d7230-4881-45de-b145-e864a6f468d7",
   "metadata": {},
   "outputs": [],
   "source": [
    "import psycopg2\n",
    "from psycopg2 import sql\n",
    "import csv"
   ]
  },
  {
   "cell_type": "code",
   "execution_count": 112,
   "id": "15a619bf-3653-4cfc-bc39-dfb58d17dc2f",
   "metadata": {},
   "outputs": [],
   "source": [
    "db_params_default = {\n",
    "    'host': \"desperado-db.ctldmj6kaxoc.us-east-2.rds.amazonaws.com\",\n",
    "    'port': '5432',\n",
    "    'user': 'desperado',\n",
    "    'password': '6156dbdesperado',\n",
    "    'database': 'postgres'\n",
    "}"
   ]
  },
  {
   "cell_type": "code",
   "execution_count": 115,
   "id": "dc64e25e-66c1-4abf-ac6c-857349d756c6",
   "metadata": {},
   "outputs": [
    {
     "name": "stdout",
     "output_type": "stream",
     "text": [
      "List of databases:\n",
      "template0\n",
      "template1\n",
      "postgres\n",
      "rdsadmin\n",
      "application\n",
      "userinfo\n"
     ]
    }
   ],
   "source": [
    "# Connect to the PostgreSQL server\n",
    "with psycopg2.connect(**db_params_default) as connection:\n",
    "    # Create a cursor\n",
    "    with connection.cursor() as cursor:\n",
    "        # Execute the query to list databases\n",
    "        cursor.execute(\"SELECT datname FROM pg_database;\")\n",
    "\n",
    "        # Fetch all rows\n",
    "        databases = cursor.fetchall()\n",
    "\n",
    "# Print the list of databases\n",
    "print(\"List of databases:\")\n",
    "for db in databases:\n",
    "    print(db[0])"
   ]
  },
  {
   "cell_type": "markdown",
   "id": "9c76f9ea-bd6a-458a-bb22-71a8a4ec8503",
   "metadata": {},
   "source": [
    "### 1. Userinfo Database Related"
   ]
  },
  {
   "cell_type": "code",
   "execution_count": 107,
   "id": "a4fc80e4-08d1-40d5-8b07-461011aeced3",
   "metadata": {},
   "outputs": [
    {
     "name": "stdout",
     "output_type": "stream",
     "text": [
      "Current isolation level: None\n"
     ]
    }
   ],
   "source": [
    "# Connect to the existing database\n",
    "with psycopg2.connect(**db_params) as connection:\n",
    "    # Get the current isolation level\n",
    "    isolation_level = connection.isolation_level\n",
    "\n",
    "print(f\"Current isolation level: {isolation_level}\")"
   ]
  },
  {
   "cell_type": "code",
   "execution_count": 116,
   "id": "c9f0a181-9052-432b-afdb-b89109bb208e",
   "metadata": {},
   "outputs": [],
   "source": [
    "# db parameters for the userinfo database\n",
    "db_params_userinfo = {\n",
    "    'host': \"desperado-db.ctldmj6kaxoc.us-east-2.rds.amazonaws.com\",\n",
    "    'port': '5432',\n",
    "    'user': 'desperado',\n",
    "    'password': '6156dbdesperado',\n",
    "    'database': 'userinfo'\n",
    "}"
   ]
  },
  {
   "cell_type": "code",
   "execution_count": 17,
   "id": "3606371a-5357-41d2-bc54-6d70030c0d04",
   "metadata": {},
   "outputs": [
    {
     "ename": "ProgrammingError",
     "evalue": "no results to fetch",
     "output_type": "error",
     "traceback": [
      "\u001b[0;31m---------------------------------------------------------------------------\u001b[0m",
      "\u001b[0;31mProgrammingError\u001b[0m                          Traceback (most recent call last)",
      "Cell \u001b[0;32mIn[17], line 7\u001b[0m\n\u001b[1;32m      5\u001b[0m \u001b[38;5;66;03m# Execute the query\u001b[39;00m\n\u001b[1;32m      6\u001b[0m cursor\u001b[38;5;241m.\u001b[39mexecute(delete_query)\n\u001b[0;32m----> 7\u001b[0m count_after_deletion \u001b[38;5;241m=\u001b[39m \u001b[43mcursor\u001b[49m\u001b[38;5;241;43m.\u001b[39;49m\u001b[43mfetchone\u001b[49m\u001b[43m(\u001b[49m\u001b[43m)\u001b[49m[\u001b[38;5;241m0\u001b[39m]\n\u001b[1;32m      8\u001b[0m \u001b[38;5;28mprint\u001b[39m(\u001b[38;5;124mf\u001b[39m\u001b[38;5;124m\"\u001b[39m\u001b[38;5;124mNumber of entries in userinfo after deletion: \u001b[39m\u001b[38;5;132;01m{\u001b[39;00mcount_after_deletion\u001b[38;5;132;01m}\u001b[39;00m\u001b[38;5;124m\"\u001b[39m)\n\u001b[1;32m      9\u001b[0m \u001b[38;5;66;03m# Commit the changes\u001b[39;00m\n",
      "\u001b[0;31mProgrammingError\u001b[0m: no results to fetch"
     ]
    }
   ],
   "source": [
    "# delete all entries\n",
    "delete_query = sql.SQL(\"DELETE FROM {}\").format(sql.Identifier(\"userinfo\"))\n",
    "\n",
    "cursor = connection.cursor()\n",
    "# Execute the query\n",
    "cursor.execute(delete_query)\n",
    "count_after_deletion = cursor.fetchone()[0]\n",
    "print(f\"Number of entries in userinfo after deletion: {count_after_deletion}\")\n",
    "# Commit the changes\n",
    "conn.commit()"
   ]
  },
  {
   "cell_type": "code",
   "execution_count": 119,
   "id": "686736b9-aef3-4085-9c15-335ad3fce8f1",
   "metadata": {},
   "outputs": [
    {
     "name": "stdout",
     "output_type": "stream",
     "text": [
      "Table 'userinfo' created successfully.\n"
     ]
    }
   ],
   "source": [
    "# Define the table schema\n",
    "table_schema = {\n",
    "    'uuid': 'VARCHAR(32) PRIMARY KEY',\n",
    "    'name': 'VARCHAR(255) NOT NULL',\n",
    "    'company': 'VARCHAR(255)',\n",
    "    'email': 'VARCHAR(255) NOT NULL',\n",
    "    'is_recruiter': 'BOOLEAN NOT NULL',\n",
    "    'picture_url' :'VARCHAR(255) NULL'\n",
    "}\n",
    "# Establish a connection to the PostgreSQL database\n",
    "with psycopg2.connect(**db_params_userinfo) as conn_app:\n",
    "    with conn_app.cursor() as cursor:\n",
    "        # Create the table using the specified schema\n",
    "        create_table_query = f\"CREATE TABLE IF NOT EXISTS userinfo ({', '.join(f'{col} {data_type}' for col, data_type in table_schema.items())});\"\n",
    "        cursor.execute(create_table_query)\n",
    "\n",
    "    # Commit the changes\n",
    "    conn_app.commit()\n",
    "\n",
    "print(\"Table 'userinfo' created successfully.\")"
   ]
  },
  {
   "cell_type": "code",
   "execution_count": 122,
   "id": "fa6133e6-9113-4cde-916c-0d29b952d05f",
   "metadata": {},
   "outputs": [
    {
     "name": "stdout",
     "output_type": "stream",
     "text": [
      "Data inserted successfully.\n"
     ]
    }
   ],
   "source": [
    "# populate tabl with the csv file\n",
    "csv_file_path = './userinfo.csv'\n",
    "\n",
    "# Establish a connection to the PostgreSQL database\n",
    "with psycopg2.connect(**db_params_userinfo) as conn:\n",
    "    with conn.cursor() as cursor:\n",
    "        # Read the CSV file\n",
    "        with open(csv_file_path, 'r') as csvfile:\n",
    "            csv_reader = csv.DictReader(csvfile)\n",
    "            for row in csv_reader:                \n",
    "                # Prepare the SQL query for insertion\n",
    "                insert_query = f\"INSERT INTO userinfo ({', '.join(row.keys())}) VALUES ({', '.join(['%s'] * len(row))});\"\n",
    "\n",
    "                # Execute the query\n",
    "                cursor.execute(insert_query, tuple(row.values()))\n",
    "\n",
    "    # Commit the changes\n",
    "    conn.commit()\n",
    "\n",
    "print(\"Data inserted successfully.\")"
   ]
  },
  {
   "cell_type": "code",
   "execution_count": 123,
   "id": "b91cdd42-670d-4d49-bf96-49cb266a0950",
   "metadata": {},
   "outputs": [
    {
     "name": "stdout",
     "output_type": "stream",
     "text": [
      "Data in the table:\n",
      "('6562d26afc13ae6bdf4cd82e', 'Shawnee Simanenko', 'Edgeclub', 'ssimanenko0@smugmug.com', False, 'https://robohash.org/etexercitationemprovident.png?size=50x50&set=set1')\n",
      "('6562d26afc13ae6bdf4cd82f', 'Ibby Huggons', 'Dynabox', 'ihuggons1@simplemachines.org', True, 'https://robohash.org/liberodelectusut.png?size=50x50&set=set1')\n",
      "('6562d26afc13ae6bdf4cd830', 'Granville Menelaws', 'Fadeo', 'gmenelaws2@army.mil', False, 'https://robohash.org/pariaturdoloremullam.png?size=50x50&set=set1')\n",
      "('6562d26afc13ae6bdf4cd831', 'Cly Janowski', 'Avamba', 'cjanowski3@fotki.com', True, 'https://robohash.org/utetomnis.png?size=50x50&set=set1')\n",
      "('6562d26afc13ae6bdf4cd832', 'Sarajane Shutle', 'Mybuzz', 'sshutle4@ow.ly', False, 'https://robohash.org/aeased.png?size=50x50&set=set1')\n",
      "('6562d26afc13ae6bdf4cd833', 'Harmon Younger', 'Roodel', 'hyounger5@yolasite.com', True, 'https://robohash.org/velomnisneque.png?size=50x50&set=set1')\n",
      "('6562d26afc13ae6bdf4cd834', 'Mariele Tennison', 'Linklinks', 'mtennison6@over-blog.com', True, 'https://robohash.org/animimollitiaincidunt.png?size=50x50&set=set1')\n",
      "('6562d26afc13ae6bdf4cd835', 'Katy Hair', 'Youfeed', 'khair7@surveymonkey.com', False, 'https://robohash.org/earumfacilisfuga.png?size=50x50&set=set1')\n",
      "('6562d26afc13ae6bdf4cd836', 'Dolly Wainer', 'Twinte', 'dwainer8@pen.io', False, 'https://robohash.org/nonnihilid.png?size=50x50&set=set1')\n",
      "('6562d26afc13ae6bdf4cd837', 'Florenza Monkhouse', 'Katz', 'fmonkhouse9@cisco.com', False, 'https://robohash.org/autconsecteturratione.png?size=50x50&set=set1')\n"
     ]
    }
   ],
   "source": [
    "# sanity check - list 10 entries\n",
    "with psycopg2.connect(**db_params_userinfo) as conn:\n",
    "    with conn.cursor() as cursor:\n",
    "        cursor.execute(\"SELECT * FROM userinfo LIMIT 10;\")\n",
    "        rows = cursor.fetchall()\n",
    "        \n",
    "        # Process the results\n",
    "        if rows:\n",
    "            print(\"Data in the table:\")\n",
    "            for row in rows:\n",
    "                print(row)\n",
    "        else:\n",
    "            print(\"No data found in the table.\")"
   ]
  },
  {
   "cell_type": "markdown",
   "id": "a0451865-02ed-4b0d-b8e4-7b972adae3c4",
   "metadata": {},
   "source": [
    "### 2. Jobs "
   ]
  },
  {
   "cell_type": "markdown",
   "id": "99b44fe1-0dae-4ca3-bd6d-bbe9318ef232",
   "metadata": {},
   "source": [
    "### 3. Application Database Related"
   ]
  },
  {
   "cell_type": "code",
   "execution_count": 10,
   "id": "751d3bad-4a12-40d8-82f0-67708dac1ba0",
   "metadata": {},
   "outputs": [],
   "source": [
    "# create new database in the same RDS instance\n",
    "new_db_name = 'application'\n",
    "\n",
    "connection.set_isolation_level(0)\n",
    "\n",
    "with connection.cursor() as cursor:\n",
    "    cursor.execute(sql.SQL(\"CREATE DATABASE {}\").format(sql.Identifier(new_db_name)))\n",
    "connection.close()"
   ]
  },
  {
   "cell_type": "code",
   "execution_count": 35,
   "id": "01758b9d-3088-4d47-be59-7b7c81832a6d",
   "metadata": {},
   "outputs": [],
   "source": [
    "# database parameters \n",
    "db_params = {\n",
    "    'host': \"desperado-db.ctldmj6kaxoc.us-east-2.rds.amazonaws.com\",\n",
    "    'port': '5432',\n",
    "    'user': 'desperado',\n",
    "    'password': '6156dbdesperado',\n",
    "    'database': 'application'\n",
    "}"
   ]
  },
  {
   "cell_type": "code",
   "execution_count": 92,
   "id": "045156ab-a3e6-4153-b65e-6d60d86160cf",
   "metadata": {},
   "outputs": [],
   "source": [
    "# delete table \n",
    "with psycopg2.connect(**db_params) as connection:\n",
    "    with connection.cursor() as cursor:\n",
    "        # Drop the table\n",
    "        cursor.execute(f\"DROP TABLE IF EXISTS application;\")\n",
    "\n",
    "    # Commit the changes\n",
    "    connection.commit()"
   ]
  },
  {
   "cell_type": "code",
   "execution_count": 93,
   "id": "b895aa8a-a527-40e5-b6dc-da3a1c33b3d8",
   "metadata": {},
   "outputs": [
    {
     "name": "stdout",
     "output_type": "stream",
     "text": [
      "Table 'application' created successfully.\n"
     ]
    }
   ],
   "source": [
    "# Define the table schema\n",
    "table_schema = {\n",
    "    'applicationID': 'VARCHAR(32) PRIMARY KEY', \n",
    "    'jobID': 'VARCHAR(255)',\n",
    "    'applicantName': 'VARCHAR(255)',\n",
    "    'applicantEmail': 'VARCHAR(255)',\n",
    "    'recruiterName': 'VARCHAR(255)',\n",
    "    'recruiterEmail': 'VARCHAR(255)',\n",
    "    'status': 'VARCHAR(255)'\n",
    "}\n",
    "\n",
    "# Establish a connection to the PostgreSQL database\n",
    "with psycopg2.connect(**db_params) as conn_app:\n",
    "    with conn_app.cursor() as cursor:\n",
    "        # Enable the uuid-ossp extension\n",
    "        cursor.execute(\"CREATE EXTENSION IF NOT EXISTS \\\"uuid-ossp\\\";\")\n",
    "\n",
    "        # Create the table using the specified schema\n",
    "        create_table_query = f\"CREATE TABLE IF NOT EXISTS application ({', '.join(f'{col} {data_type}' for col, data_type in table_schema.items())});\"\n",
    "        cursor.execute(create_table_query)\n",
    "\n",
    "    # Commit the changes\n",
    "    conn_app.commit()\n",
    "\n",
    "print(\"Table 'application' created successfully.\")"
   ]
  },
  {
   "cell_type": "code",
   "execution_count": 94,
   "id": "b0944f42-cc30-4aa8-9c48-2c393d87b338",
   "metadata": {},
   "outputs": [
    {
     "name": "stdout",
     "output_type": "stream",
     "text": [
      "Data inserted successfully.\n"
     ]
    }
   ],
   "source": [
    "# populate tabl with the csv file\n",
    "csv_file_path = './application.csv'\n",
    "\n",
    "# Establish a connection to the PostgreSQL database\n",
    "with psycopg2.connect(**db_params) as conn:\n",
    "    with conn.cursor() as cursor:\n",
    "        # Read the CSV file\n",
    "        with open(csv_file_path, 'r') as csvfile:\n",
    "            csv_reader = csv.DictReader(csvfile)\n",
    "            for row in csv_reader:                \n",
    "                # Prepare the SQL query for insertion\n",
    "                insert_query = f\"INSERT INTO application ({', '.join(row.keys())}) VALUES ({', '.join(['%s'] * len(row))});\"\n",
    "\n",
    "                # Execute the query\n",
    "                cursor.execute(insert_query, tuple(row.values()))\n",
    "\n",
    "    # Commit the changes\n",
    "    conn.commit()\n",
    "\n",
    "print(\"Data inserted successfully.\")"
   ]
  },
  {
   "cell_type": "code",
   "execution_count": 95,
   "id": "c6439fc7-5c59-4081-9943-d89b7d8b3301",
   "metadata": {},
   "outputs": [
    {
     "name": "stdout",
     "output_type": "stream",
     "text": [
      "Data in the table:\n",
      "('6562df23fc13ae6b204cd964', '233', 'Jocelyn Sayre', 'jsayreo0@cbc.ca', 'Rafa Gammett', 'rgammettad@w3.org', 'pending')\n",
      "('6562df23fc13ae6b204cd965', '579', 'Fanny Seagood', 'fseagoodh6@qq.com', \"Hewett O'Luney\", 'holuneyoj@noaa.gov', 'rejected')\n",
      "('6562df23fc13ae6b204cd966', '501', 'Sileas Axleby', 'saxlebyh4@fc2.com', 'Ronny Massie', 'rmassiej8@phoca.cz', 'rejected')\n",
      "('6562df23fc13ae6b204cd967', '799', 'Gweneth Scally', 'gscally6z@nyu.edu', 'Kermit Vanichkov', 'kvanichkovqh@webnode.com', 'rejected')\n",
      "('6562df23fc13ae6b204cd968', '929', 'Georgianna Giannazzo', 'ggiannazzock@indiatimes.com', 'Elijah Eads', 'eeadsgs@blogspot.com', 'pending')\n",
      "('6562df23fc13ae6b204cd969', '308', 'Lauritz Beverstock', 'lbeverstock1e@wunderground.com', 'Bron Templman', 'btemplmann@ucla.edu', 'rejected')\n",
      "('6562df23fc13ae6b204cd96a', '823', 'Marcelline Wilflinger', 'mwilflingerbl@elegantthemes.com', 'Aube Willingale', 'awillingale5w@si.edu', 'accepted')\n",
      "('6562df23fc13ae6b204cd96b', '30', 'Dina Gymlett', 'dgymlett1n@delicious.com', 'Juliet Fant', 'jfanto@toplist.cz', 'accepted')\n",
      "('6562df23fc13ae6b204cd96c', '96', 'Christiana Gouly', 'cgouly5q@tmall.com', 'Elijah Eads', 'eeadsgs@blogspot.com', 'accepted')\n",
      "('6562df23fc13ae6b204cd96d', '882', 'Rivi Henrych', 'rhenrychkq@wunderground.com', 'Ruthi Skains', 'rskainsm9@cafepress.com', 'pending')\n"
     ]
    }
   ],
   "source": [
    "# sanity check - list 10 entries\n",
    "with psycopg2.connect(**db_params) as conn:\n",
    "    with conn.cursor() as cursor:\n",
    "        cursor.execute(\"SELECT * FROM application LIMIT 10;\")\n",
    "        rows = cursor.fetchall()\n",
    "        \n",
    "        # Process the results\n",
    "        if rows:\n",
    "            print(\"Data in the table:\")\n",
    "            for row in rows:\n",
    "                print(row)\n",
    "        else:\n",
    "            print(\"No data found in the table.\")"
   ]
  },
  {
   "cell_type": "code",
   "execution_count": 89,
   "id": "57244cc1-bfb9-4804-9a60-9a8ede66ece8",
   "metadata": {},
   "outputs": [
    {
     "name": "stdout",
     "output_type": "stream",
     "text": [
      "Schema for table application:\n",
      "[('applicationid', 'character varying'), ('jobid', 'character varying'), ('applicantname', 'character varying'), ('applicantemail', 'character varying'), ('recruitername', 'character varying'), ('recruiteremail', 'character varying'), ('status', 'character varying')]\n"
     ]
    }
   ],
   "source": [
    "# sanity check - get schema of the table\n",
    "with psycopg2.connect(**db_params) as conn_app:\n",
    "    with conn_app.cursor() as cursor:\n",
    "        schema_query = sql.SQL(\"\"\"\n",
    "            SELECT column_name, data_type\n",
    "            FROM information_schema.columns\n",
    "            WHERE table_name = {}\n",
    "        \"\"\").format(sql.Literal('application'))\n",
    "        # Execute the query\n",
    "        cursor.execute(schema_query)\n",
    "        \n",
    "        # Fetch and print the result\n",
    "        schema = cursor.fetchall()\n",
    "        print(f\"Schema for table application:\\n{schema}\")"
   ]
  },
  {
   "cell_type": "code",
   "execution_count": 90,
   "id": "4af10c30-fd58-4ae6-bb11-12325e1ad338",
   "metadata": {},
   "outputs": [
    {
     "name": "stdout",
     "output_type": "stream",
     "text": [
      "application\n"
     ]
    }
   ],
   "source": [
    "# list all tables\n",
    "with psycopg2.connect(**db_params) as conn_app:\n",
    "    with conn_app.cursor() as cursor:\n",
    "        cursor.execute(\"SELECT table_name FROM information_schema.tables WHERE table_schema='public' AND table_type='BASE TABLE';\")\n",
    "        tables = cursor.fetchall()\n",
    "        for table in tables:\n",
    "            print(table[0])"
   ]
  },
  {
   "cell_type": "code",
   "execution_count": 101,
   "id": "f4448e42-e827-4bc3-90f9-f2f528a29700",
   "metadata": {},
   "outputs": [],
   "source": [
    "with psycopg2.connect(**db_params) as conn_app:\n",
    "    connection.set_isolation_level(psycopg2.extensions.ISOLATION_LEVEL_DEFAULT)"
   ]
  },
  {
   "cell_type": "code",
   "execution_count": 98,
   "id": "e3ce3bfe-cbc2-4d03-9bb4-b6152cde8c5a",
   "metadata": {},
   "outputs": [],
   "source": [
    "if cursor:\n",
    "    cursor.close()\n",
    "if conn_app:\n",
    "    conn_app.close()"
   ]
  },
  {
   "cell_type": "code",
   "execution_count": null,
   "id": "62fac21d-088c-4134-add1-2dc5f85c9492",
   "metadata": {},
   "outputs": [],
   "source": []
  }
 ],
 "metadata": {
  "kernelspec": {
   "display_name": "Python 3 (ipykernel)",
   "language": "python",
   "name": "python3"
  },
  "language_info": {
   "codemirror_mode": {
    "name": "ipython",
    "version": 3
   },
   "file_extension": ".py",
   "mimetype": "text/x-python",
   "name": "python",
   "nbconvert_exporter": "python",
   "pygments_lexer": "ipython3",
   "version": "3.10.7"
  }
 },
 "nbformat": 4,
 "nbformat_minor": 5
}
